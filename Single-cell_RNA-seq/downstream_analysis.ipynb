{
 "cells": [
  {
   "cell_type": "code",
   "execution_count": 1,
   "id": "69358a09",
   "metadata": {},
   "outputs": [
    {
     "data": {
      "text/html": [
       "<style>.container { width:90% !important; }</style>"
      ],
      "text/plain": [
       "<IPython.core.display.HTML object>"
      ]
     },
     "metadata": {},
     "output_type": "display_data"
    },
    {
     "name": "stdout",
     "output_type": "stream",
     "text": [
      "Running scvelo 0.2.4 (python 3.9.7) on 2023-05-10 20:44.\n"
     ]
    },
    {
     "name": "stderr",
     "output_type": "stream",
     "text": [
      "ERROR: XMLRPC request failed [code: -32500]\n",
      "RuntimeError: PyPI no longer supports 'pip search' (or XML-RPC search). Please use https://pypi.org/search (via a browser) instead. See https://warehouse.pypa.io/api-reference/xml-rpc.html#deprecated-methods for more information.\n"
     ]
    }
   ],
   "source": [
    "from IPython.core.display import display, HTML\n",
    "display(HTML(\"<style>.container { width:90% !important; }</style>\"))\n",
    "%matplotlib inline\n",
    "\n",
    "import scvelo as scv\n",
    "import scrublet as scr\n",
    "import scanpy.external as sce\n",
    "import numpy as np\n",
    "import pandas as pd\n",
    "import scanpy as sc\n",
    "import phate\n",
    "import cellrank as cr\n",
    "from scipy.sparse import csr_matrix\n",
    "import seaborn as sns\n",
    "import pandas as pd\n",
    "import matplotlib.pyplot as plt\n",
    "import numpy \n",
    "\n",
    "\n",
    "scv.logging.print_version()\n",
    "scv.settings.verbosity = 3  \n",
    "scv.settings.set_figure_params('scvelo')  "
   ]
  },
  {
   "cell_type": "code",
   "execution_count": null,
   "id": "8006f5e1",
   "metadata": {},
   "outputs": [],
   "source": [
    "#Load the data\n",
    "adata1 = sc.read(\"mES_wt_SLIF_Gel.csv\")\n",
    "adata2 = sc.read(\"mES_JUP_OEHIGH_SLIF_TCP.csv\")\n",
    "adata3 = sc.read(\"mES_JUP_OELOW_SLIF_TCP.csv\")\n",
    "adata4 = sc.read(\"mES_wt_2ILIF_TCP.csv\")\n",
    "adata5 = sc.read(\"mES_wt_SLIF_TCP.csv\")"
   ]
  },
  {
   "cell_type": "code",
   "execution_count": null,
   "id": "f56d2cdf",
   "metadata": {},
   "outputs": [],
   "source": [
    "#de-duplicate repete naming\n",
    "adata1.var_names_make_unique()\n",
    "adata2.var_names_make_unique()\n",
    "adata3.var_names_make_unique()\n",
    "adata4.var_names_make_unique()\n",
    "adata5.var_names_make_unique()"
   ]
  },
  {
   "cell_type": "code",
   "execution_count": null,
   "id": "64e2a892",
   "metadata": {},
   "outputs": [],
   "source": [
    "#Load the loom files from zUMIs for velocity analysis\n",
    "adata01 = sc.read_loom(\"new/3m.loom\")\n",
    "adata01.var_names_make_unique()\n",
    "adata02 = sc.read_loom(\"new/5m.loom\")\n",
    "adata02.var_names_make_unique()\n",
    "adata03 = sc.read_loom(\"new/7m.loom\")\n",
    "adata03.var_names_make_unique()\n",
    "adata04 = sc.read_loom(\"new/8m.loom\")\n",
    "adata04.var_names_make_unique()\n",
    "adata05 = sc.read_loom(\"new/9m.loom\")\n",
    "adata05.var_names_make_unique()"
   ]
  },
  {
   "cell_type": "code",
   "execution_count": null,
   "id": "b6cd58e3",
   "metadata": {},
   "outputs": [],
   "source": [
    "#merge count matrices and loom file\n",
    "a1 = scv.utils.merge(adata1,adata01)\n",
    "a2 = scv.utils.merge(adata2,adata02)\n",
    "a3 = scv.utils.merge(adata3,adata03)\n",
    "a4 = scv.utils.merge(adata4,adata04)\n",
    "a5 = scv.utils.merge(adata5,adata05)"
   ]
  },
  {
   "cell_type": "code",
   "execution_count": null,
   "id": "81878ca9",
   "metadata": {},
   "outputs": [],
   "source": [
    "#concatenate all together\n",
    "adata = a1.concatenate(a2,a3,a4,a5, batch_categories = ['mES_wt_SLIF_Gel','mES_JUP_OEHIGH_SLIF_TCP','mES_JUP_OELOW_SLIF_TCP','mES_wt_2ILIF_TCP','mES_wt_SLIF_TCP'])"
   ]
  },
  {
   "cell_type": "code",
   "execution_count": null,
   "id": "c6ec86bb",
   "metadata": {},
   "outputs": [],
   "source": [
    "#process the data\n",
    "mito_genes = adata.var_names.str.startswith('mt-')\n",
    "adata.obs['percent_mito'] = np.sum(\n",
    "    adata[:, mito_genes].X, axis=1) / np.sum(adata.X, axis=1)\n",
    "adata.obs['n_counts'] = adata.X.sum(axis=1)\n",
    "adata.obs['n_spliced'] =adata.layers['spliced'].sum(axis=1)\n",
    "adata.obs['n_unspliced'] =adata.layers['unspliced'].sum(axis=1)\n",
    "adata.layers['spliced'].sum(axis=1)\n",
    "sc.pp.filter_cells(adata, min_genes=1)\n",
    "sc.pp.normalize_total(adata, target_sum=1e4)\n",
    "sc.pp.log1p(adata)\n",
    "adata.raw = adata\n",
    "sc.pp.highly_variable_genes(adata, min_mean=0.0125, max_mean=3, min_disp=0.5)\n",
    "sc.pp.regress_out(adata, ['n_counts'])\n",
    "sc.pp.scale(adata, max_value=10)"
   ]
  },
  {
   "cell_type": "code",
   "execution_count": null,
   "id": "07077e0d",
   "metadata": {},
   "outputs": [],
   "source": [
    "#PCA plot\n",
    "sc.tl.pca(adata, svd_solver='arpack')\n",
    "sc.pl.pca(adata, color=['batch'], size = 9, add_outline=True)"
   ]
  },
  {
   "cell_type": "code",
   "execution_count": null,
   "id": "a021c675",
   "metadata": {},
   "outputs": [],
   "source": [
    "#UMAP plot\n",
    "sc.pp.neighbors(adata, n_neighbors=8, n_pcs=30)\n",
    "sc.tl.umap(adata)\n",
    "sc.pl.umap(adata, color=['batch'], size = 9, add_outline=True)"
   ]
  },
  {
   "cell_type": "code",
   "execution_count": null,
   "id": "dd9dad5a",
   "metadata": {},
   "outputs": [],
   "source": [
    "#Latent time computation\n",
    "scv.tl.recover_dynamics(adata)\n"
   ]
  },
  {
   "cell_type": "code",
   "execution_count": null,
   "id": "2d939727",
   "metadata": {},
   "outputs": [],
   "source": []
  }
 ],
 "metadata": {
  "kernelspec": {
   "display_name": "Python 3 (ipykernel)",
   "language": "python",
   "name": "python3"
  },
  "language_info": {
   "codemirror_mode": {
    "name": "ipython",
    "version": 3
   },
   "file_extension": ".py",
   "mimetype": "text/x-python",
   "name": "python",
   "nbconvert_exporter": "python",
   "pygments_lexer": "ipython3",
   "version": "3.9.7"
  }
 },
 "nbformat": 4,
 "nbformat_minor": 5
}
